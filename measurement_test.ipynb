{
 "cells": [
  {
   "cell_type": "markdown",
   "metadata": {},
   "source": [
    "This notebook initializes some quibits to 0 and then measures them, as a test for measurement errors."
   ]
  },
  {
   "cell_type": "code",
   "execution_count": 1,
   "metadata": {},
   "outputs": [],
   "source": [
    "## Initial setup\n",
    "import qiskit\n",
    "from qiskit_ibm_runtime import QiskitRuntimeService\n",
    "from qiskit_ibm_runtime import SamplerV2 as Sampler\n",
    "import os\n",
    "from dotenv import load_dotenv\n",
    "\n",
    "load_dotenv()\n",
    "API_TOKEN = os.getenv(\"API_TOKEN\")\n",
    "service = QiskitRuntimeService(channel=\"ibm_quantum\", token=API_TOKEN)\n",
    "backend = service.backend(name=\"ibm_rensselaer\")"
   ]
  },
  {
   "cell_type": "code",
   "execution_count": 2,
   "metadata": {},
   "outputs": [],
   "source": [
    "# 2 qubit system\n",
    "qc = qiskit.QuantumCircuit(2, 2)\n",
    "\n",
    "# measure the qubits\n",
    "qc.measure([0, 1], [0, 1])\n",
    "qc = qiskit.transpile(qc, backend)\n",
    "\n",
    "sampler = Sampler(backend)\n",
    "job = sampler.run([qc], shots=10**4)\n",
    "result = job.result()[0]"
   ]
  },
  {
   "cell_type": "code",
   "execution_count": 6,
   "metadata": {},
   "outputs": [
    {
     "name": "stdout",
     "output_type": "stream",
     "text": [
      "Measurement output:  {'00': 9945, '10': 34, '01': 21}\n"
     ]
    }
   ],
   "source": [
    "# display\n",
    "counts = result.data.c.get_counts()\n",
    "print(\"Measurement output: \", counts)\n"
   ]
  },
  {
   "cell_type": "code",
   "execution_count": 7,
   "metadata": {},
   "outputs": [],
   "source": [
    "# Again, but this time with 20 qubits\n",
    "qc_20 = qiskit.QuantumCircuit(20, 20)\n",
    "qc_20.measure([i for i in range(20)], [i for i in range(20)])\n",
    "qc_20 = qiskit.transpile(qc_20, backend)\n",
    "\n",
    "sampler = Sampler(backend)\n",
    "job_20 = sampler.run([qc_20], shots=10**4)\n",
    "result_20 = job_20.result()[0]"
   ]
  },
  {
   "cell_type": "code",
   "execution_count": 8,
   "metadata": {},
   "outputs": [
    {
     "name": "stdout",
     "output_type": "stream",
     "text": [
      "Measurement output:  {'00000000000000000000': 9434, '00000000000000010000': 19, '00000001000000000000': 29, '00000000000001000000': 33, '00100000000000000000': 34, '00001000000000000000': 49, '00000000000000001000': 23, '00000010000000000000': 26, '00000100000000000000': 36, '00000000000100000000': 42, '00000000000000100000': 28, '00000000001000000000': 18, '01000000000000000000': 36, '00000000000000000010': 37, '11000000000000000000': 1, '00000000000000000001': 15, '00000000010000000000': 20, '00000000000000000100': 17, '00000000100000000000': 30, '00000000000100010000': 1, '00010000000000000000': 20, '01000100000000000000': 3, '00000000000010000000': 21, '10000000000000000000': 18, '00000000000000010001': 1, '10001000000000000000': 1, '00000000000100000100': 1, '00001010000000000000': 1, '10000000000000000001': 1, '00100000010000000000': 1, '00000000010001000000': 1, '00001000000000000001': 1, '00000000001000001000': 1, '00000001000000000001': 1}\n"
     ]
    }
   ],
   "source": [
    "counts_20 = result_20.data.c.get_counts()\n",
    "print(\"Measurement output: \", counts_20)"
   ]
  },
  {
   "cell_type": "code",
   "execution_count": 11,
   "metadata": {},
   "outputs": [
    {
     "data": {
      "text/plain": [
       "0"
      ]
     },
     "execution_count": 11,
     "metadata": {},
     "output_type": "execute_result"
    }
   ],
   "source": [
    "counts.get('0'*20, 0)"
   ]
  },
  {
   "cell_type": "code",
   "execution_count": 12,
   "metadata": {},
   "outputs": [
    {
     "name": "stdout",
     "output_type": "stream",
     "text": [
      "{2: 400, 3: 40, 1: 2409, 4: 1, 0: 7150}\n"
     ]
    }
   ],
   "source": [
    "num_errors = {}\n",
    "for measurement, count in counts_20.items():\n",
    "    errors = sum([1 for i in range(20) if measurement[i] != '0'])\n",
    "    num_errors[errors] = num_errors.get(errors, 0) + count\n",
    "print(num_errors)"
   ]
  },
  {
   "cell_type": "markdown",
   "metadata": {},
   "source": [
    "Now, let's see if anything is different if we initialize cubits to 1 instead of 0."
   ]
  },
  {
   "cell_type": "code",
   "execution_count": 9,
   "metadata": {},
   "outputs": [],
   "source": [
    "qc_20_1 = qiskit.QuantumCircuit(20, 20)\n",
    "for i in range(20):\n",
    "    qc_20_1.initialize([1, 0], i)\n",
    "\n",
    "qc_20_1.measure([i for i in range(20)], [i for i in range(20)])\n",
    "qc_20_1 = qiskit.transpile(qc_20_1, backend)\n",
    "\n",
    "sampler = Sampler(backend)\n",
    "job_20_1 = sampler.run([qc_20_1], shots=10**4)\n",
    "result_20_1 = job_20_1.result()[0]"
   ]
  },
  {
   "cell_type": "code",
   "execution_count": 11,
   "metadata": {},
   "outputs": [
    {
     "name": "stdout",
     "output_type": "stream",
     "text": [
      "Measurement output:  {'00000000000000000000': 9714, '00000000000100000000': 33, '00001000000000000000': 25, '00000100000000000000': 5, '00000000000000100000': 15, '00010000000000000000': 15, '00000010000000000000': 16, '01000000000000000000': 29, '00100000000000000000': 11, '00000000000001000000': 22, '00000001000000000000': 13, '00000000000000000010': 17, '00000000001000000000': 13, '00000000000100000010': 1, '00001010000000000000': 1, '00000000000000001000': 8, '00000000000010000000': 8, '00000000000000000100': 15, '00000000000000010000': 9, '10000000000000000000': 20, '01100000000000000000': 1, '00000000100000000000': 4, '00000000010000000000': 2, '00000000000000000001': 2, '01000001000000000000': 1}\n"
     ]
    }
   ],
   "source": [
    "counts_20_1 = result_20_1.data.c.get_counts()\n",
    "print(\"Measurement output: \", counts_20_1)"
   ]
  },
  {
   "cell_type": "code",
   "execution_count": null,
   "metadata": {},
   "outputs": [],
   "source": []
  }
 ],
 "metadata": {
  "kernelspec": {
   "display_name": ".cqc-venv",
   "language": "python",
   "name": "python3"
  },
  "language_info": {
   "codemirror_mode": {
    "name": "ipython",
    "version": 3
   },
   "file_extension": ".py",
   "mimetype": "text/x-python",
   "name": "python",
   "nbconvert_exporter": "python",
   "pygments_lexer": "ipython3",
   "version": "3.12.7"
  }
 },
 "nbformat": 4,
 "nbformat_minor": 2
}
