{
 "cells": [
  {
   "cell_type": "markdown",
   "metadata": {},
   "source": [
    "This notebook initializes some quibits to 0 and then measures them, as a test for measurement errors."
   ]
  },
  {
   "cell_type": "code",
   "execution_count": 3,
   "metadata": {},
   "outputs": [],
   "source": [
    "## Initial setup\n",
    "import qiskit\n",
    "from qiskit_ibm_runtime import QiskitRuntimeService\n",
    "import os\n",
    "from dotenv import load_dotenv\n",
    "\n",
    "load_dotenv()\n",
    "API_TOKEN = os.getenv(\"API_TOKEN\")\n",
    "service = QiskitRuntimeService(channel=\"ibm_quantum\", token=API_TOKEN)\n",
    "backend = service.backend(name=\"ibm_rensselaer\")"
   ]
  },
  {
   "cell_type": "code",
   "execution_count": 5,
   "metadata": {},
   "outputs": [
    {
     "name": "stderr",
     "output_type": "stream",
     "text": [
      "/tmp/ipykernel_247040/310277187.py:8: DeprecationWarning: backend.run() and related sessions methods are deprecated  as of qiskit-ibm-runtime 0.23 and will be removed no sooner than 6 months after the release date. More details can be found in the primitives migration guide https://docs.quantum.ibm.com/migration-guides/qiskit-runtime.\n",
      "  job = backend.run(qc, shots=10**4)\n"
     ]
    }
   ],
   "source": [
    "# 2 cubit system\n",
    "qc = qiskit.QuantumCircuit(2, 2)\n",
    "\n",
    "# measure the qubits\n",
    "qc.measure([0, 1], [0, 1])\n",
    "qc = qiskit.transpile(qc, backend)\n",
    "\n",
    "job = backend.run(qc, shots=10**4)\n",
    "result = job.result()"
   ]
  },
  {
   "cell_type": "code",
   "execution_count": 6,
   "metadata": {},
   "outputs": [
    {
     "name": "stdout",
     "output_type": "stream",
     "text": [
      "Measurement output:  {'01': 21, '10': 24, '00': 9955}\n"
     ]
    }
   ],
   "source": [
    "# display\n",
    "counts = result.get_counts(qc)\n",
    "print(\"Measurement output: \", counts)\n"
   ]
  },
  {
   "cell_type": "code",
   "execution_count": 9,
   "metadata": {},
   "outputs": [
    {
     "name": "stderr",
     "output_type": "stream",
     "text": [
      "/tmp/ipykernel_247040/1380385772.py:6: DeprecationWarning: backend.run() and related sessions methods are deprecated  as of qiskit-ibm-runtime 0.23 and will be removed no sooner than 6 months after the release date. More details can be found in the primitives migration guide https://docs.quantum.ibm.com/migration-guides/qiskit-runtime.\n",
      "  job_20 = backend.run(qc_20, shots=10**4)\n"
     ]
    }
   ],
   "source": [
    "# Again, but this time with 20 qubits\n",
    "qc_20 = qiskit.QuantumCircuit(20, 20)\n",
    "qc_20.measure([i for i in range(20)], [i for i in range(20)])\n",
    "qc_20 = qiskit.transpile(qc_20, backend)\n",
    "\n",
    "job_20 = backend.run(qc_20, shots=10**4)\n",
    "result_20 = job_20.result()"
   ]
  },
  {
   "cell_type": "code",
   "execution_count": 10,
   "metadata": {},
   "outputs": [
    {
     "name": "stdout",
     "output_type": "stream",
     "text": [
      "Measurement output:  {'00000001100000000000': 19, '00110000100000000000': 1, '10001000000000000000': 2, '00000000100001000000': 3, '00010000000000100000': 1, '00000000000001010000': 3, '00000100000000000000': 13, '00100000001000000000': 7, '00001000000000010000': 3, '00001000100000010000': 1, '00000000010100000000': 1, '01000000100000000000': 3, '00001001000100000000': 1, '00110000001000000000': 1, '00001000001000000000': 24, '00000000101000000000': 10, '00000000001010000000': 2, '00000001001000000000': 8, '00100000001001000000': 1, '00000000001000000000': 187, '00000101000000000000': 2, '00000001000000001000': 2, '00000000000110000000': 1, '00010000000000001000': 2, '00010000100000010000': 1, '00100000000001000000': 5, '00110000000000000000': 6, '00000000001000000010': 1, '00000000100011000000': 1, '00000000100010000000': 3, '00000000000000001000': 13, '00000000100000100000': 2, '00000001000001000000': 2, '10100000000000000000': 1, '00100000000000000010': 1, '00101000100000000000': 2, '11000000000000000000': 1, '00100000000000000000': 316, '01000000010000000000': 1, '00000000100100000000': 4, '01000000001000000000': 2, '00001000000000000100': 2, '01001000100000000000': 1, '00001000000001000000': 12, '00000000000001000010': 1, '10000000000000100000': 1, '01100000000001000000': 1, '00001100000000000000': 1, '00000000000010000000': 38, '01001000000000000000': 7, '00001000000000000000': 610, '00000000110000000000': 4, '10000000000001000001': 1, '00010000000000010000': 2, '00001000000011000000': 1, '00000001000000000000': 198, '00101000000000000100': 1, '00000000001000100000': 1, '00001001001000000000': 1, '00010000000000001100': 1, '01001000000001000000': 1, '00000000000000000010': 25, '00100000000000000100': 1, '00000001101000000000': 1, '01100000100000000000': 2, '01110000000000000000': 1, '00001000010000000000': 3, '00111000000100000000': 1, '00100001000000000000': 23, '00010000000100000000': 1, '00000001010000000000': 1, '10000000100000000000': 2, '00100000010000000000': 3, '00011000000000000000': 10, '00000000100000010000': 6, '00001000100010000000': 1, '00000000000100000000': 76, '00000000001001000000': 7, '00001001000000000000': 20, '00000010100000000000': 1, '00100000001000000010': 1, '00010000101000000000': 1, '00001010000000000000': 4, '00010000001000000000': 3, '00001000000000000010': 1, '00000000000000010000': 49, '00001000100001000000': 2, '00010010000000000000': 1, '10000001100000000000': 1, '00001000101000000000': 2, '00101000001000000000': 2, '00001000000010000000': 4, '00000001100001000000': 1, '00100000000000100000': 1, '00000000000000000000': 7150, '00000000000000001100': 5, '00000000000011000000': 1, '00010000000001000000': 1, '00001000000000100010': 1, '00000000100000000000': 464, '01010000000000000000': 2, '00010001000000000000': 5, '00011000100000000000': 1, '00001000000000000001': 1, '00000000000100010000': 2, '00010000100000000000': 2, '00000000000000000100': 11, '00111000000000000000': 2, '00010000010000000000': 1, '00000000010000000000': 37, '00000100001000000000': 1, '00001000000000100000': 1, '00000000000000000001': 6, '00101000000000010000': 2, '00101000000000000000': 29, '00100000000000010000': 1, '00000000100000000010': 6, '01100000000000000000': 2, '00001001000000010000': 1, '00000000001100000000': 4, '00001000000100000000': 6, '00000001000000010000': 3, '00000000000000100000': 13, '00000000100000000001': 2, '00000000000000110000': 4, '00000001000100000000': 1, '00000001000000000010': 1, '00100001100000000000': 1, '10000000000000000000': 17, '01000000000001000000': 4, '00010000000000000000': 114, '00000000000000010010': 1, '00001000000000001000': 1, '00000000000001000000': 133, '00100000000100000000': 3, '00100000100000000000': 22, '00000010001000000000': 1, '00000010000000000000': 22, '00100000000010000000': 1, '00001000100000000000': 41, '01000000000000000000': 67}\n"
     ]
    }
   ],
   "source": [
    "counts_20 = result_20.get_counts(qc_20)\n",
    "print(\"Measurement output: \", counts_20)"
   ]
  },
  {
   "cell_type": "code",
   "execution_count": 11,
   "metadata": {},
   "outputs": [
    {
     "data": {
      "text/plain": [
       "0"
      ]
     },
     "execution_count": 11,
     "metadata": {},
     "output_type": "execute_result"
    }
   ],
   "source": [
    "counts.get('0'*20, 0)"
   ]
  },
  {
   "cell_type": "code",
   "execution_count": 12,
   "metadata": {},
   "outputs": [
    {
     "name": "stdout",
     "output_type": "stream",
     "text": [
      "{2: 400, 3: 40, 1: 2409, 4: 1, 0: 7150}\n"
     ]
    }
   ],
   "source": [
    "num_errors = {}\n",
    "for measurement, count in counts_20.items():\n",
    "    errors = sum([1 for i in range(20) if measurement[i] != '0'])\n",
    "    num_errors[errors] = num_errors.get(errors, 0) + count\n",
    "print(num_errors)"
   ]
  },
  {
   "cell_type": "code",
   "execution_count": null,
   "metadata": {},
   "outputs": [],
   "source": []
  }
 ],
 "metadata": {
  "kernelspec": {
   "display_name": ".cqc-venv",
   "language": "python",
   "name": "python3"
  },
  "language_info": {
   "codemirror_mode": {
    "name": "ipython",
    "version": 3
   },
   "file_extension": ".py",
   "mimetype": "text/x-python",
   "name": "python",
   "nbconvert_exporter": "python",
   "pygments_lexer": "ipython3",
   "version": "3.12.7"
  }
 },
 "nbformat": 4,
 "nbformat_minor": 2
}
