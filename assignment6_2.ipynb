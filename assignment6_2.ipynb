{
 "cells": [
  {
   "cell_type": "code",
   "execution_count": 1,
   "metadata": {},
   "outputs": [],
   "source": [
    "## Initial setup\n",
    "import qiskit\n",
    "from qiskit_ibm_runtime import QiskitRuntimeService\n",
    "\n",
    "import os\n",
    "from dotenv import load_dotenv\n",
    "\n",
    "load_dotenv()\n",
    "API_TOKEN = os.getenv(\"API_TOKEN\")\n",
    "service = QiskitRuntimeService(channel=\"ibm_quantum\", token=API_TOKEN)\n",
    "backend = service.backend(name=\"ibm_rensselaer\")"
   ]
  },
  {
   "cell_type": "markdown",
   "metadata": {},
   "source": [
    "### Testing Const/Balance for 1-bit Functions"
   ]
  },
  {
   "cell_type": "code",
   "execution_count": null,
   "metadata": {},
   "outputs": [
    {
     "data": {
      "image/png": "[encoded data removed]",
      "text/plain": [
       "<Figure size 370.906x200.667 with 1 Axes>"
      ]
     },
     "execution_count": 6,
     "metadata": {},
     "output_type": "execute_result"
    }
   ],
   "source": [
    "# f_bal(x) = NOT(x)\n",
    "Uf_bal = qiskit.QuantumCircuit(2)\n",
    "Uf_bal.x(0)\n",
    "Uf_bal.cx(0, 1)\n",
    "Uf_bal.x(0)\n",
    "Uf_bal_gate = Uf_bal.to_gate()\n",
    "Uf_bal.draw(output='mpl')"
   ]
  },
  {
   "cell_type": "code",
   "execution_count": 7,
   "metadata": {},
   "outputs": [
    {
     "data": {
      "image/png": "[encoded data removed]",
      "text/plain": [
       "<Figure size 203.683x200.667 with 1 Axes>"
      ]
     },
     "execution_count": 7,
     "metadata": {},
     "output_type": "execute_result"
    }
   ],
   "source": [
    "# f_const(x) = 1\n",
    "Uf_const = qiskit.QuantumCircuit(2)\n",
    "Uf_const.x(1)\n",
    "Uf_const_gate = Uf_const.to_gate()\n",
    "Uf_const.draw(output='mpl')"
   ]
  },
  {
   "cell_type": "code",
   "execution_count": 21,
   "metadata": {},
   "outputs": [],
   "source": [
    "def check_balance_circuit(Uf):\n",
    "    # 2 qubits and 1 classical bit to measure the top qubit at the end\n",
    "    qc = qiskit.QuantumCircuit(2, 1)\n",
    "    qc.initialize(\"00\")\n",
    "    # initial state (entagle)\n",
    "    qc.h(0)\n",
    "    qc.x(1)\n",
    "    qc.h(1)\n",
    "    # run the Uf\n",
    "    qc.append(Uf, [0, 1])\n",
    "    # detangle and measure\n",
    "    qc.h([0, 1])\n",
    "    qc.measure([0], [0])\n",
    "    return qc\n",
    "\n",
    "def check_balance_results(Uf):\n",
    "    qc = check_balance_circuit(Uf)\n",
    "    qc = qiskit.transpile(qc, backend)\n",
    "    job = backend.run(qc, shots=10**4)\n",
    "    result = job.result()\n",
    "    counts = result.get_counts(qc)\n",
    "    return counts"
   ]
  },
  {
   "cell_type": "code",
   "execution_count": 22,
   "metadata": {},
   "outputs": [
    {
     "name": "stderr",
     "output_type": "stream",
     "text": [
      "/tmp/ipykernel_59629/1526369375.py:19: DeprecationWarning: backend.run() and related sessions methods are deprecated  as of qiskit-ibm-runtime 0.23 and will be removed no sooner than 6 months after the release date. More details can be found in the primitives migration guide https://docs.quantum.ibm.com/migration-guides/qiskit-runtime.\n",
      "  job = backend.run(qc, shots=10**4)\n",
      "/tmp/ipykernel_59629/1526369375.py:19: DeprecationWarning: backend.run() and related sessions methods are deprecated  as of qiskit-ibm-runtime 0.23 and will be removed no sooner than 6 months after the release date. More details can be found in the primitives migration guide https://docs.quantum.ibm.com/migration-guides/qiskit-runtime.\n",
      "  job = backend.run(qc, shots=10**4)\n"
     ]
    }
   ],
   "source": [
    "counts_bal = check_balance_results(Uf_bal_gate)\n",
    "counts_const = check_balance_results(Uf_const_gate)"
   ]
  },
  {
   "cell_type": "code",
   "execution_count": 23,
   "metadata": {},
   "outputs": [
    {
     "name": "stdout",
     "output_type": "stream",
     "text": [
      "{'1': 9881, '0': 119}\n",
      "{'0': 9997, '1': 3}\n"
     ]
    }
   ],
   "source": [
    "print(counts_bal)\n",
    "print(counts_const)"
   ]
  },
  {
   "cell_type": "code",
   "execution_count": null,
   "metadata": {},
   "outputs": [],
   "source": []
  }
 ],
 "metadata": {
  "kernelspec": {
   "display_name": ".cqc-venv",
   "language": "python",
   "name": "python3"
  },
  "language_info": {
   "codemirror_mode": {
    "name": "ipython",
    "version": 3
   },
   "file_extension": ".py",
   "mimetype": "text/x-python",
   "name": "python",
   "nbconvert_exporter": "python",
   "pygments_lexer": "ipython3",
   "version": "3.12.7"
  }
 },
 "nbformat": 4,
 "nbformat_minor": 2
}
