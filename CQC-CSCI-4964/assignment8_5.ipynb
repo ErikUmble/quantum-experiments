{
 "cells": [
  {
   "cell_type": "code",
   "execution_count": 1,
   "metadata": {},
   "outputs": [],
   "source": [
    "## Initial setup\n",
    "import qiskit\n",
    "from qiskit_ibm_runtime import QiskitRuntimeService\n",
    "from qiskit_ibm_runtime import SamplerV2 as Sampler\n",
    "\n",
    "import os\n",
    "from dotenv import load_dotenv\n",
    "\n",
    "load_dotenv()\n",
    "API_TOKEN = os.getenv(\"API_TOKEN\")\n",
    "service = QiskitRuntimeService(channel=\"ibm_quantum\", token=API_TOKEN)\n",
    "backend = service.backend(name=\"ibm_rensselaer\")"
   ]
  },
  {
   "cell_type": "markdown",
   "metadata": {},
   "source": [
    "### Create Uf and Grover's Algorithm Circuit"
   ]
  },
  {
   "cell_type": "code",
   "execution_count": 2,
   "metadata": {},
   "outputs": [
    {
     "data": {
      "image/png": "[encoded data removed]",
      "text/plain": [
       "<Figure size 203.885x367.889 with 1 Axes>"
      ]
     },
     "execution_count": 2,
     "metadata": {},
     "output_type": "execute_result"
    }
   ],
   "source": [
    "# f(x1, x2, x3) = (x1 OR x2) AND (x1 OR NOT(x2)) AND (NOT(x1) OR x3)\n",
    "# reduces to f(x1, x2, x3) = x1 AND x3\n",
    "\n",
    "Uf = qiskit.QuantumCircuit(4)\n",
    "Uf.ccx(0, 2, 3)\n",
    "Uf_gate = Uf.to_gate(label='Uf')\n",
    "Uf.draw(output='mpl')"
   ]
  },
  {
   "cell_type": "code",
   "execution_count": 3,
   "metadata": {},
   "outputs": [
    {
     "data": {
      "image/png": "[encoded data removed]",
      "text/plain": [
       "<Figure size 872.774x451.5 with 1 Axes>"
      ]
     },
     "execution_count": 3,
     "metadata": {},
     "output_type": "execute_result"
    }
   ],
   "source": [
    "def grover_reflection_operator(n_qubits):\n",
    "    qc = qiskit.QuantumCircuit(n_qubits)\n",
    "    qc.h(range(n_qubits))\n",
    "    qc.x(range(n_qubits))\n",
    "    qc.h(n_qubits-1)\n",
    "    mct = qiskit.circuit.library.standard_gates.XGate().control(n_qubits-1)\n",
    "    qc.append(mct, range(n_qubits))\n",
    "    qc.h(n_qubits-1)\n",
    "    qc.x(range(n_qubits))\n",
    "    qc.h(range(n_qubits))\n",
    "    return qc.to_gate(label='Grover operator')\n",
    "\n",
    "from qiskit.circuit.library import grover_operator\n",
    "\n",
    "# initial state\n",
    "qc = qiskit.QuantumCircuit(4, 3)\n",
    "qc.x(3)\n",
    "qc.h([0, 1, 2, 3])\n",
    "\n",
    "\n",
    "## Grover iteration\n",
    "# run oracle\n",
    "qc.append(Uf_gate, [0, 1, 2, 3])\n",
    "\n",
    "# apply grover operator to first three qubits\n",
    "qc.append(grover_reflection_operator(3), [0, 1, 2])\n",
    "\n",
    "##\n",
    "\n",
    "# only measure first three qubits\n",
    "qc.measure([0, 1, 2], [0, 1, 2])\n",
    "\n",
    "qc.draw(output='mpl')"
   ]
  },
  {
   "cell_type": "code",
   "execution_count": 4,
   "metadata": {},
   "outputs": [],
   "source": [
    "# transpile and run\n",
    "transpiled_grover = qiskit.transpile(qc, backend)\n",
    "sampler = Sampler(backend)\n",
    "job = sampler.run([transpiled_grover], shots=10**4)\n",
    "result = job.result()[0]\n",
    "counts = result.data.c.get_counts()"
   ]
  },
  {
   "cell_type": "code",
   "execution_count": 5,
   "metadata": {},
   "outputs": [
    {
     "data": {
      "text/plain": [
       "{'101': 3545,\n",
       " '001': 244,\n",
       " '111': 3978,\n",
       " '100': 869,\n",
       " '110': 860,\n",
       " '011': 234,\n",
       " '010': 122,\n",
       " '000': 148}"
      ]
     },
     "execution_count": 5,
     "metadata": {},
     "output_type": "execute_result"
    }
   ],
   "source": [
    "counts"
   ]
  },
  {
   "cell_type": "code",
   "execution_count": 27,
   "metadata": {},
   "outputs": [],
   "source": [
    "# Simulation comparison\n",
    "from qiskit_aer import AerSimulator\n",
    "from qiskit.transpiler.preset_passmanagers import generate_preset_pass_manager\n",
    "simulator = AerSimulator()\n",
    "pm = generate_preset_pass_manager(optimization_level=1, backend=simulator)\n",
    "qc_transpiled = pm.run(qc)\n",
    "\n",
    "simulation = simulator.run(qc_transpiled, shots=10**4)\n",
    "simulation_counts = simulation.result()"
   ]
  },
  {
   "cell_type": "code",
   "execution_count": 28,
   "metadata": {},
   "outputs": [
    {
     "data": {
      "text/plain": [
       "{'101': 5051, '111': 4949}"
      ]
     },
     "execution_count": 28,
     "metadata": {},
     "output_type": "execute_result"
    }
   ],
   "source": [
    "simulation_counts.get_counts()"
   ]
  },
  {
   "cell_type": "code",
   "execution_count": 29,
   "metadata": {},
   "outputs": [],
   "source": [
    "def print_probability_distribution_table(counts, shots=10**4):\n",
    "    # print start of table\n",
    "    print(\"\"\"\\\\begin{table}[H]\n",
    "          \\\\centering\n",
    "    \\\\begin{tabular}{|c|c|}\n",
    "        \\\\hline\n",
    "        $x_1$ $x_2$ $x_3$ & $P(x)$ \\\\\\\\\n",
    "        \\\\hline\"\"\")\n",
    "    for i in range(8):\n",
    "        binary = format(i, '03b')\n",
    "        little_endian = binary[::-1]\n",
    "        frequency = counts.get(little_endian, 0)\n",
    "        print(f\"        {binary} & {frequency/shots} \\\\\\\\\")\n",
    "\n",
    "    # print end of table\n",
    "    print(\"\"\"        \\\\hline\n",
    "    \\\\end{tabular}\n",
    "\\\\end{table}\"\"\")"
   ]
  },
  {
   "cell_type": "code",
   "execution_count": 30,
   "metadata": {},
   "outputs": [
    {
     "name": "stdout",
     "output_type": "stream",
     "text": [
      "\\begin{table}[H]\n",
      "          \\centering\n",
      "    \\begin{tabular}{|c|c|}\n",
      "        \\hline\n",
      "        $x_1$ $x_2$ $x_3$ & $P(x)$ \\\\\n",
      "        \\hline\n",
      "        000 & 0.035 \\\\\n",
      "        001 & 0.1301 \\\\\n",
      "        010 & 0.0324 \\\\\n",
      "        011 & 0.1025 \\\\\n",
      "        100 & 0.027 \\\\\n",
      "        101 & 0.3037 \\\\\n",
      "        110 & 0.0251 \\\\\n",
      "        111 & 0.3442 \\\\\n",
      "        \\hline\n",
      "    \\end{tabular}\n",
      "\\end{table}\n"
     ]
    }
   ],
   "source": [
    "print_probability_distribution_table(counts)"
   ]
  },
  {
   "cell_type": "code",
   "execution_count": 31,
   "metadata": {},
   "outputs": [
    {
     "name": "stdout",
     "output_type": "stream",
     "text": [
      "\\begin{table}[H]\n",
      "          \\centering\n",
      "    \\begin{tabular}{|c|c|}\n",
      "        \\hline\n",
      "        $x_1$ $x_2$ $x_3$ & $P(x)$ \\\\\n",
      "        \\hline\n",
      "        000 & 0.0 \\\\\n",
      "        001 & 0.0 \\\\\n",
      "        010 & 0.0 \\\\\n",
      "        011 & 0.0 \\\\\n",
      "        100 & 0.0 \\\\\n",
      "        101 & 0.5051 \\\\\n",
      "        110 & 0.0 \\\\\n",
      "        111 & 0.4949 \\\\\n",
      "        \\hline\n",
      "    \\end{tabular}\n",
      "\\end{table}\n"
     ]
    }
   ],
   "source": [
    "print_probability_distribution_table(simulation_counts.get_counts())"
   ]
  },
  {
   "cell_type": "code",
   "execution_count": null,
   "metadata": {},
   "outputs": [],
   "source": []
  }
 ],
 "metadata": {
  "kernelspec": {
   "display_name": ".cqc-venv",
   "language": "python",
   "name": "python3"
  },
  "language_info": {
   "codemirror_mode": {
    "name": "ipython",
    "version": 3
   },
   "file_extension": ".py",
   "mimetype": "text/x-python",
   "name": "python",
   "nbconvert_exporter": "python",
   "pygments_lexer": "ipython3",
   "version": "3.12.7"
  }
 },
 "nbformat": 4,
 "nbformat_minor": 2
}
