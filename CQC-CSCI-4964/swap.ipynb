{
 "cells": [
  {
   "attachments": {
    "{0F4115F7-D62F-4C5B-A6B0-5CB309EEA101}.png": {
     "image/png": "[encoded data removed]"
    }
   },
   "cell_type": "markdown",
   "metadata": {},
   "source": [
    "The goal of this notebook is to test a simple quantum circuit to swap two cubits.\n",
    "\n",
    "![{0F4115F7-D62F-4C5B-A6B0-5CB309EEA101}.png](attachment:{0F4115F7-D62F-4C5B-A6B0-5CB309EEA101}.png)"
   ]
  },
  {
   "cell_type": "markdown",
   "metadata": {},
   "source": []
  },
  {
   "cell_type": "code",
   "execution_count": 4,
   "metadata": {},
   "outputs": [],
   "source": [
    "## Initial setup\n",
    "import qiskit\n",
    "from qiskit_ibm_runtime import QiskitRuntimeService\n",
    "from qiskit_ibm_runtime import SamplerV2 as Sampler\n",
    "\n",
    "import os\n",
    "from dotenv import load_dotenv\n",
    "\n",
    "load_dotenv()\n",
    "API_TOKEN = os.getenv(\"API_TOKEN\")\n",
    "service = QiskitRuntimeService(channel=\"ibm_quantum\", token=API_TOKEN)\n",
    "backend = service.backend(name=\"ibm_rensselaer\")\n"
   ]
  },
  {
   "cell_type": "code",
   "execution_count": null,
   "metadata": {},
   "outputs": [],
   "source": [
    "# 2 qubit system\n",
    "qc = qiskit.QuantumCircuit(2, 2)  # creates a quantum register 'q' with 2 qubits and a classical register 'c' with 2 bits\n",
    "\n",
    "# Initialize second qubit to |1>\n",
    "qc.initialize([0, 1], 1)\n",
    "\n",
    "# CNOT gate (control: qubit 0, target: qubit 1)\n",
    "qc.cx(0, 1)\n",
    "\n",
    "# CNOT gate (control: qubit 1, target: qubit 0)\n",
    "qc.cx(1, 0)\n",
    "\n",
    "# CNTO gate (control: qubit 0, target: qubit 1)\n",
    "qc.cx(0, 1)\n",
    "\n",
    "# Measure qubits\n",
    "qc.measure([0, 1], [0, 1])\n",
    "\n",
    "qc.draw(output=\"mpl\")"
   ]
  },
  {
   "cell_type": "code",
   "execution_count": 5,
   "metadata": {},
   "outputs": [],
   "source": [
    "# Execute the circuit\n",
    "qc = qiskit.transpile(qc, backend)\n",
    "\n",
    "sampler = Sampler(backend)\n",
    "job = sampler.run([qc], shots=10**4)\n",
    "result = job.result()[0]"
   ]
  },
  {
   "cell_type": "code",
   "execution_count": 14,
   "metadata": {},
   "outputs": [
    {
     "name": "stdout",
     "output_type": "stream",
     "text": [
      "{'01': 9754, '11': 119, '00': 76, '10': 51}\n"
     ]
    }
   ],
   "source": [
    "# get counts from the classical register\n",
    "counts = result.data.c.get_counts()\n",
    "print(counts)"
   ]
  },
  {
   "cell_type": "code",
   "execution_count": null,
   "metadata": {},
   "outputs": [],
   "source": []
  },
  {
   "cell_type": "markdown",
   "metadata": {},
   "source": [
    "As expected, in most cases, the qubits switched values, with q_0 ending as 1 and q_1 ending as 0."
   ]
  },
  {
   "cell_type": "code",
   "execution_count": 24,
   "metadata": {},
   "outputs": [
    {
     "name": "stdout",
     "output_type": "stream",
     "text": [
      "Measurement output: {'01': 1000}\n"
     ]
    }
   ],
   "source": [
    "# noise-free simulation results\n",
    "from qiskit.quantum_info import SparsePauliOp\n",
    "from qiskit_aer.primitives import EstimatorV2 as Estimator\n",
    "from qiskit_aer import AerSimulator\n",
    "from qiskit.transpiler.preset_passmanagers import generate_preset_pass_manager\n",
    "\n",
    "simulator = AerSimulator()\n",
    "pass_manager = generate_preset_pass_manager(3, simulator)\n",
    "transpiled_circuit = pass_manager.run(qc)\n",
    "\n",
    "simulation_job = simulator.run(transpiled_circuit, shots=1000)\n",
    "\n",
    "simulation_result = simulation_job.result()\n",
    "simulation_counts = simulation_result.get_counts(transpiled_circuit)\n",
    "\n",
    "# Print and plot the results\n",
    "print(\"Measurement output:\", simulation_counts)"
   ]
  },
  {
   "cell_type": "code",
   "execution_count": null,
   "metadata": {},
   "outputs": [],
   "source": []
  }
 ],
 "metadata": {
  "kernelspec": {
   "display_name": ".cqc-venv",
   "language": "python",
   "name": "python3"
  },
  "language_info": {
   "codemirror_mode": {
    "name": "ipython",
    "version": 3
   },
   "file_extension": ".py",
   "mimetype": "text/x-python",
   "name": "python",
   "nbconvert_exporter": "python",
   "pygments_lexer": "ipython3",
   "version": "3.12.7"
  }
 },
 "nbformat": 4,
 "nbformat_minor": 2
}
