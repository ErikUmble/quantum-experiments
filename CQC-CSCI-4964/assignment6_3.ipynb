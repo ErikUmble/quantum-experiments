{
 "cells": [
  {
   "cell_type": "code",
   "execution_count": 1,
   "metadata": {},
   "outputs": [],
   "source": [
    "## Initial setup\n",
    "import qiskit\n",
    "from qiskit_ibm_runtime import QiskitRuntimeService\n",
    "from qiskit_ibm_runtime import SamplerV2 as Sampler\n",
    "import os\n",
    "from dotenv import load_dotenv\n",
    "\n",
    "load_dotenv()\n",
    "API_TOKEN = os.getenv(\"API_TOKEN\")\n",
    "service = QiskitRuntimeService(channel=\"ibm_quantum\", token=API_TOKEN)\n",
    "backend = service.backend(name=\"ibm_rensselaer\")"
   ]
  },
  {
   "cell_type": "code",
   "execution_count": 2,
   "metadata": {},
   "outputs": [
    {
     "data": {
      "text/html": [
       "<pre style=\"word-wrap: normal;white-space: pre;background: #fff0;line-height: 1.1;font-family: &quot;Courier New&quot;,Courier,monospace\">        ┌──────────────────────┐┌───┐┌───┐     ┌───┐                         »\n",
       "   q_0: ┤0                     ├┤ H ├┤ X ├──■──┤ X ├──■────■─────────■───────»\n",
       "        │                      │├───┤└───┘  │  ├───┤  │  ┌─┴─┐     ┌─┴─┐┌───┐»\n",
       "   q_1: ┤1                     ├┤ H ├───────■──┤ X ├──■──┤ X ├──■──┤ X ├┤ X ├»\n",
       "        │  Initialize(0,0,0,0) │├───┤┌───┐  │  └───┘  │  └───┘  │  └───┘└───┘»\n",
       "   q_2: ┤2                     ├┤ X ├┤ H ├──┼─────────┼─────────■────────────»\n",
       "        │                      │├───┤├───┤┌─┴─┐     ┌─┴─┐     ┌─┴─┐          »\n",
       "   q_3: ┤3                     ├┤ X ├┤ H ├┤ X ├─────┤ X ├─────┤ X ├──────────»\n",
       "        └──────────────────────┘└───┘└───┘└───┘     └───┘     └───┘          »\n",
       "meas: 4/═════════════════════════════════════════════════════════════════════»\n",
       "                                                                             »\n",
       "«         ░ ┌─┐         \n",
       "«   q_0: ─░─┤M├─────────\n",
       "«         ░ └╥┘┌─┐      \n",
       "«   q_1: ─░──╫─┤M├──────\n",
       "«         ░  ║ └╥┘┌─┐   \n",
       "«   q_2: ─░──╫──╫─┤M├───\n",
       "«         ░  ║  ║ └╥┘┌─┐\n",
       "«   q_3: ─░──╫──╫──╫─┤M├\n",
       "«         ░  ║  ║  ║ └╥┘\n",
       "«meas: 4/════╩══╩══╩══╩═\n",
       "«            0  1  2  3 </pre>"
      ],
      "text/plain": [
       "        ┌──────────────────────┐┌───┐┌───┐     ┌───┐                         »\n",
       "   q_0: ┤0                     ├┤ H ├┤ X ├──■──┤ X ├──■────■─────────■───────»\n",
       "        │                      │├───┤└───┘  │  ├───┤  │  ┌─┴─┐     ┌─┴─┐┌───┐»\n",
       "   q_1: ┤1                     ├┤ H ├───────■──┤ X ├──■──┤ X ├──■──┤ X ├┤ X ├»\n",
       "        │  Initialize(0,0,0,0) │├───┤┌───┐  │  └───┘  │  └───┘  │  └───┘└───┘»\n",
       "   q_2: ┤2                     ├┤ X ├┤ H ├──┼─────────┼─────────■────────────»\n",
       "        │                      │├───┤├───┤┌─┴─┐     ┌─┴─┐     ┌─┴─┐          »\n",
       "   q_3: ┤3                     ├┤ X ├┤ H ├┤ X ├─────┤ X ├─────┤ X ├──────────»\n",
       "        └──────────────────────┘└───┘└───┘└───┘     └───┘     └───┘          »\n",
       "meas: 4/═════════════════════════════════════════════════════════════════════»\n",
       "                                                                             »\n",
       "«         ░ ┌─┐         \n",
       "«   q_0: ─░─┤M├─────────\n",
       "«         ░ └╥┘┌─┐      \n",
       "«   q_1: ─░──╫─┤M├──────\n",
       "«         ░  ║ └╥┘┌─┐   \n",
       "«   q_2: ─░──╫──╫─┤M├───\n",
       "«         ░  ║  ║ └╥┘┌─┐\n",
       "«   q_3: ─░──╫──╫──╫─┤M├\n",
       "«         ░  ║  ║  ║ └╥┘\n",
       "«meas: 4/════╩══╩══╩══╩═\n",
       "«            0  1  2  3 "
      ]
     },
     "execution_count": 2,
     "metadata": {},
     "output_type": "execute_result"
    }
   ],
   "source": [
    "# Create circuit\n",
    "qc = qiskit.QuantumCircuit(4)\n",
    "qc.initialize('0000')\n",
    "\n",
    "# transform input of 0s to superposition\n",
    "qc.h(0)\n",
    "\n",
    "qc.h(1)\n",
    "\n",
    "qc.x(2)\n",
    "qc.h(2)\n",
    "\n",
    "qc.x(3)\n",
    "qc.h(3)\n",
    "\n",
    "# apply Uf\n",
    "qc.x(0)\n",
    "\n",
    "qc.ccx(0, 1, 3)\n",
    "\n",
    "qc.x(0)\n",
    "qc.x(1)\n",
    "\n",
    "qc.ccx(0, 1, 3)\n",
    "\n",
    "qc.cx(0, 1)\n",
    "\n",
    "qc.ccx(1, 2, 3)\n",
    "\n",
    "qc.cx(0, 1)\n",
    "\n",
    "qc.x(1)\n",
    "\n",
    "# finally measure\n",
    "qc.measure_all()\n",
    "\n",
    "\n",
    "qc.draw()"
   ]
  },
  {
   "cell_type": "code",
   "execution_count": 3,
   "metadata": {},
   "outputs": [],
   "source": [
    "# Transpile and execute\n",
    "from qiskit.transpiler.preset_passmanagers import generate_preset_pass_manager\n",
    "from qiskit_ibm_runtime import EstimatorV2 as Estimator\n",
    "\n",
    "pm = generate_preset_pass_manager(optimization_level=1, backend=backend)\n",
    "qc_transpiled = pm.run(qc)\n",
    "\n",
    "sampler = Sampler(backend)\n",
    "job = sampler.run([qc_transpiled], shots=10**4)\n",
    "result = job.result()[0]"
   ]
  },
  {
   "cell_type": "code",
   "execution_count": 4,
   "metadata": {},
   "outputs": [
    {
     "name": "stdout",
     "output_type": "stream",
     "text": [
      "z x3 x2 x1 | frequency\n",
      "0000       | 1052\n",
      "0001       | 586\n",
      "0010       | 379\n",
      "0011       | 565\n",
      "0100       | 408\n",
      "0101       | 1145\n",
      "0110       | 478\n",
      "0111       | 323\n",
      "1000       | 726\n",
      "1001       | 683\n",
      "1010       | 210\n",
      "1011       | 306\n",
      "1100       | 1235\n",
      "1101       | 941\n",
      "1110       | 329\n",
      "1111       | 634\n"
     ]
    }
   ],
   "source": [
    "# Display results\n",
    "counts = result.data.meas.get_counts()\n",
    "print(\"z x3 x2 x1 | frequency\")\n",
    "for i in range(16):\n",
    "    binary = format(i, '04b')\n",
    "    print(binary, \"      |\", counts.get(binary, 0))"
   ]
  },
  {
   "cell_type": "code",
   "execution_count": 5,
   "metadata": {},
   "outputs": [
    {
     "name": "stdout",
     "output_type": "stream",
     "text": [
      "z x3 x2 x1 | frequency\n",
      "0000       | 649\n",
      "0001       | 595\n",
      "0010       | 610\n",
      "0011       | 609\n",
      "0100       | 597\n",
      "0101       | 611\n",
      "0110       | 613\n",
      "0111       | 614\n",
      "1000       | 649\n",
      "1001       | 675\n",
      "1010       | 637\n",
      "1011       | 632\n",
      "1100       | 627\n",
      "1101       | 633\n",
      "1110       | 599\n",
      "1111       | 650\n"
     ]
    }
   ],
   "source": [
    "# Simulation comparison\n",
    "from qiskit_aer import AerSimulator\n",
    "simulator = AerSimulator()\n",
    "pm = generate_preset_pass_manager(optimization_level=1, backend=simulator)\n",
    "qc_transpiled = pm.run(qc)\n",
    "\n",
    "simulation = simulator.run(qc_transpiled, shots=10**4)\n",
    "simulation_counts = simulation.result().get_counts()\n",
    "\n",
    "print(\"z x3 x2 x1 | frequency\")\n",
    "for i in range(16):\n",
    "    binary = format(i, '04b')\n",
    "    print(binary, \"      |\", simulation_counts.get(binary, 0))"
   ]
  },
  {
   "cell_type": "code",
   "execution_count": null,
   "metadata": {},
   "outputs": [],
   "source": []
  }
 ],
 "metadata": {
  "kernelspec": {
   "display_name": ".cqc-venv",
   "language": "python",
   "name": "python3"
  },
  "language_info": {
   "codemirror_mode": {
    "name": "ipython",
    "version": 3
   },
   "file_extension": ".py",
   "mimetype": "text/x-python",
   "name": "python",
   "nbconvert_exporter": "python",
   "pygments_lexer": "ipython3",
   "version": "3.12.7"
  }
 },
 "nbformat": 4,
 "nbformat_minor": 2
}
