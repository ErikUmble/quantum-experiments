{
 "cells": [
  {
   "cell_type": "code",
   "execution_count": 1,
   "metadata": {},
   "outputs": [],
   "source": [
    "## Initial setup\n",
    "import qiskit\n",
    "from qiskit_ibm_runtime import QiskitRuntimeService\n",
    "from qiskit_ibm_runtime import SamplerV2 as Sampler\n",
    "import os\n",
    "from dotenv import load_dotenv\n",
    "\n",
    "load_dotenv()\n",
    "API_TOKEN = os.getenv(\"API_TOKEN\")\n",
    "service = QiskitRuntimeService(channel=\"ibm_quantum\", token=API_TOKEN)\n",
    "backend = service.backend(name=\"ibm_rensselaer\")"
   ]
  },
  {
   "cell_type": "code",
   "execution_count": 9,
   "metadata": {},
   "outputs": [
    {
     "data": {
      "text/html": [
       "<pre style=\"word-wrap: normal;white-space: pre;background: #fff0;line-height: 1.1;font-family: &quot;Courier New&quot;,Courier,monospace\">             \n",
       "     a: ──o──\n",
       "          │  \n",
       "     b: ──■──\n",
       "          │  \n",
       "     c: ──o──\n",
       "          │  \n",
       "     d: ──o──\n",
       "        ┌─┴─┐\n",
       "return: ┤ X ├\n",
       "        └───┘</pre>"
      ],
      "text/plain": [
       "             \n",
       "     a: ──o──\n",
       "          │  \n",
       "     b: ──■──\n",
       "          │  \n",
       "     c: ──o──\n",
       "          │  \n",
       "     d: ──o──\n",
       "        ┌─┴─┐\n",
       "return: ┤ X ├\n",
       "        └───┘"
      ]
     },
     "execution_count": 9,
     "metadata": {},
     "output_type": "execute_result"
    }
   ],
   "source": [
    "from qiskit.circuit.classicalfunction import classical_function\n",
    "from qiskit.circuit.classicalfunction.types import Int1\n",
    " \n",
    "@classical_function\n",
    "def grover_oracle(a: Int1, b: Int1, c: Int1, d: Int1) -> Int1:\n",
    "    return (not a and b and not c and not d)\n",
    " \n",
    "quantum_circuit = grover_oracle.synth(registerless=False)\n",
    "quantum_circuit.draw('text')"
   ]
  },
  {
   "cell_type": "code",
   "execution_count": null,
   "metadata": {},
   "outputs": [],
   "source": []
  }
 ],
 "metadata": {
  "kernelspec": {
   "display_name": ".venv-quantum-experiments",
   "language": "python",
   "name": "python3"
  },
  "language_info": {
   "codemirror_mode": {
    "name": "ipython",
    "version": 3
   },
   "file_extension": ".py",
   "mimetype": "text/x-python",
   "name": "python",
   "nbconvert_exporter": "python",
   "pygments_lexer": "ipython3",
   "version": "3.10.16"
  }
 },
 "nbformat": 4,
 "nbformat_minor": 2
}
