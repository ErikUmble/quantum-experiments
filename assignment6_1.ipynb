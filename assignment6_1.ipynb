{
 "cells": [
  {
   "cell_type": "code",
   "execution_count": 1,
   "metadata": {},
   "outputs": [],
   "source": [
    "## Initial setup\n",
    "import qiskit\n",
    "from qiskit_ibm_runtime import QiskitRuntimeService\n",
    "import os\n",
    "from dotenv import load_dotenv\n",
    "\n",
    "load_dotenv()\n",
    "API_TOKEN = os.getenv(\"API_TOKEN\")\n",
    "service = QiskitRuntimeService(channel=\"ibm_quantum\", token=API_TOKEN)\n",
    "backend = service.backend(name=\"ibm_rensselaer\")"
   ]
  },
  {
   "cell_type": "markdown",
   "metadata": {},
   "source": [
    "### Trivial Circuit\n",
    "Measuring qubits directly after initializing them to 0"
   ]
  },
  {
   "cell_type": "code",
   "execution_count": 3,
   "metadata": {},
   "outputs": [],
   "source": [
    "# Initialize 2 qubits to 0\n",
    "qc = qiskit.QuantumCircuit(2)\n",
    "qc.initialize('00')\n",
    "qc.measure_all()"
   ]
  },
  {
   "cell_type": "code",
   "execution_count": 5,
   "metadata": {},
   "outputs": [
    {
     "name": "stderr",
     "output_type": "stream",
     "text": [
      "/tmp/ipykernel_124609/864542522.py:3: DeprecationWarning: backend.run() and related sessions methods are deprecated  as of qiskit-ibm-runtime 0.23 and will be removed no sooner than 6 months after the release date. More details can be found in the primitives migration guide https://docs.quantum.ibm.com/migration-guides/qiskit-runtime.\n",
      "  job = backend.run(qc_transpiled, shots=10**4)\n"
     ]
    }
   ],
   "source": [
    "# Execute the circuit\n",
    "qc_transpiled = qiskit.transpile(qc, backend)\n",
    "job = backend.run(qc_transpiled, shots=10**4)\n",
    "result = job.result()"
   ]
  },
  {
   "cell_type": "code",
   "execution_count": 6,
   "metadata": {},
   "outputs": [
    {
     "name": "stdout",
     "output_type": "stream",
     "text": [
      "{'10': 69, '01': 4, '00': 9927}\n"
     ]
    }
   ],
   "source": [
    "counts = result.get_counts()\n",
    "print(counts)"
   ]
  },
  {
   "cell_type": "code",
   "execution_count": null,
   "metadata": {},
   "outputs": [
    {
     "name": "stderr",
     "output_type": "stream",
     "text": [
      "/tmp/ipykernel_124609/1135121357.py:8: DeprecationWarning: backend.run() and related sessions methods are deprecated  as of qiskit-ibm-runtime 0.23 and will be removed no sooner than 6 months after the release date. More details can be found in the primitives migration guide https://docs.quantum.ibm.com/migration-guides/qiskit-runtime.\n",
      "  job = backend.run(qc_transpiled, shots=10**4)\n"
     ]
    },
    {
     "name": "stdout",
     "output_type": "stream",
     "text": [
      "{'00001000000000000001': 1, '10000000100000000000': 1, '00000000110000000000': 24, '00000101001000000000': 1, '00000000001000000000': 256, '00000000001000000100': 1, '00000100000101000000': 1, '00000000000000010000': 30, '00001000000000001000': 1, '00010001100000000000': 2, '00010000000000100000': 1, '00110001000000000000': 2, '00000000000100100000': 2, '01000010000000000000': 1, '00000000000010000000': 18, '01000000000000000010': 1, '00100000010000010000': 1, '00000000000000000001': 6, '00110000000000010000': 1, '01000000000000000000': 96, '00000101000000000000': 2, '00011000000000000000': 1, '00000000000000000010': 72, '00000000100000100000': 1, '01000000010000000000': 2, '00001000000001000000': 2, '00000000000010000001': 1, '00000000000101000000': 2, '00100000000000100000': 1, '00000000100010000000': 1, '00010000100000000100': 1, '00101001000000000000': 1, '00000100001000000000': 1, '00101000000000000000': 7, '00000001000000000000': 314, '00100000000000010000': 3, '01000001000000000000': 5, '00100000000000100010': 1, '00100000010000000000': 13, '01100000000000000000': 2, '00001000001000000000': 5, '00000001100000000000': 16, '00000000010000000100': 1, '00000001010000000000': 10, '00000001000000100000': 2, '00010001010000000000': 1, '01000000110000000000': 1, '00010000001000000000': 1, '00100001000000000010': 1, '00000000000001010000': 1, '00000001000000000010': 4, '10000000000000000000': 10, '00000000010100000000': 6, '00100000011000000000': 1, '00000000001001000000': 4, '01000000000001000000': 2, '01000000001000000000': 3, '00000011000000000000': 1, '00000100000000000000': 2, '00100000001000000000': 22, '01000000000100000000': 4, '00010000000000000000': 175, '00000000010000000000': 167, '00000000000001000000': 166, '00100001000000100000': 1, '00101000100000000000': 1, '10000000000100000000': 2, '01100000010000000000': 2, '00000000110100000000': 1, '00001000000000000000': 81, '00001001110000000000': 1, '00100000010001000000': 1, '00010000000001000000': 6, '00010000101000000000': 1, '00001000000100000000': 4, '00000100010000000000': 1, '00000000110000010000': 1, '00110000000000000000': 12, '00000001001000000000': 14, '00000000000100000000': 109, '00010001110000000000': 1, '00100000000010000000': 2, '00010010000000000000': 1, '00001001000000000000': 4, '00100001011000000000': 1, '00000001000100000000': 4, '00000000000110000000': 1, '00000000100000000010': 3, '00001001010000000000': 1, '00001000010000000000': 2, '00000000000000000100': 10, '00000001000000010000': 2, '00100000000001000000': 11, '00000001000001000000': 9, '00101000001000000000': 1, '00000000111000010010': 1, '00000000011000000000': 4, '00000000100000010000': 2, '00000000000000100000': 22, '00100001000000000000': 32, '00100001010000000000': 1, '00100001001000000000': 2, '00000000001100000000': 5, '00100000000000000000': 545, '00110000100000000000': 1, '00100001000001000000': 1, '00100000110000000000': 4, '00100000000100000000': 11, '00000001000010000000': 2, '00100000100001000000': 1, '00000000000000000000': 7104, '01000001100000000000': 1, '00100000001001000000': 2, '00010000100000000000': 10, '01000000100000000000': 5, '00100000101000000000': 2, '00000000100001000000': 10, '00000010000000000000': 2, '10000000010000000000': 1, '00000000100000000000': 343, '00010000000100000000': 3, '00000000110001000000': 1, '00000000001000000010': 3, '00000000111000000000': 2, '00010000001001000000': 1, '00000001000001100000': 1, '00000000000000001000': 7, '00000001110000000000': 2, '00100000000000000100': 1, '00000000101000000000': 15, '00010000010000000000': 10, '00100000000000000010': 6, '00001000100000000000': 5, '00000000011001000000': 1, '00000000100100000000': 6, '00100000011000000010': 1, '00000000000001000010': 4, '00010001000000000000': 11, '00110000000001000000': 2, '00100000100000000000': 20, '00000000010001000000': 7}\n"
     ]
    }
   ],
   "source": [
    "# Now, try with 20 qubits\n",
    "qc = qiskit.QuantumCircuit(20)\n",
    "qc.initialize('0'*20)\n",
    "qc.measure_all()\n",
    "\n",
    "# Execute the circuit\n",
    "qc_transpiled = qiskit.transpile(qc, backend)\n",
    "job = backend.run(qc_transpiled, shots=10**4)\n",
    "result = job.result()\n",
    "\n"
   ]
  },
  {
   "cell_type": "code",
   "execution_count": 8,
   "metadata": {},
   "outputs": [
    {
     "name": "stdout",
     "output_type": "stream",
     "text": [
      "{'00001000000000000001': 1, '10000000100000000000': 1, '00000000110000000000': 24, '00000101001000000000': 1, '00000000001000000000': 256, '00000000001000000100': 1, '00000100000101000000': 1, '00000000000000010000': 30, '00001000000000001000': 1, '00010001100000000000': 2, '00010000000000100000': 1, '00110001000000000000': 2, '00000000000100100000': 2, '01000010000000000000': 1, '00000000000010000000': 18, '01000000000000000010': 1, '00100000010000010000': 1, '00000000000000000001': 6, '00110000000000010000': 1, '01000000000000000000': 96, '00000101000000000000': 2, '00011000000000000000': 1, '00000000000000000010': 72, '00000000100000100000': 1, '01000000010000000000': 2, '00001000000001000000': 2, '00000000000010000001': 1, '00000000000101000000': 2, '00100000000000100000': 1, '00000000100010000000': 1, '00010000100000000100': 1, '00101001000000000000': 1, '00000100001000000000': 1, '00101000000000000000': 7, '00000001000000000000': 314, '00100000000000010000': 3, '01000001000000000000': 5, '00100000000000100010': 1, '00100000010000000000': 13, '01100000000000000000': 2, '00001000001000000000': 5, '00000001100000000000': 16, '00000000010000000100': 1, '00000001010000000000': 10, '00000001000000100000': 2, '00010001010000000000': 1, '01000000110000000000': 1, '00010000001000000000': 1, '00100001000000000010': 1, '00000000000001010000': 1, '00000001000000000010': 4, '10000000000000000000': 10, '00000000010100000000': 6, '00100000011000000000': 1, '00000000001001000000': 4, '01000000000001000000': 2, '01000000001000000000': 3, '00000011000000000000': 1, '00000100000000000000': 2, '00100000001000000000': 22, '01000000000100000000': 4, '00010000000000000000': 175, '00000000010000000000': 167, '00000000000001000000': 166, '00100001000000100000': 1, '00101000100000000000': 1, '10000000000100000000': 2, '01100000010000000000': 2, '00000000110100000000': 1, '00001000000000000000': 81, '00001001110000000000': 1, '00100000010001000000': 1, '00010000000001000000': 6, '00010000101000000000': 1, '00001000000100000000': 4, '00000100010000000000': 1, '00000000110000010000': 1, '00110000000000000000': 12, '00000001001000000000': 14, '00000000000100000000': 109, '00010001110000000000': 1, '00100000000010000000': 2, '00010010000000000000': 1, '00001001000000000000': 4, '00100001011000000000': 1, '00000001000100000000': 4, '00000000000110000000': 1, '00000000100000000010': 3, '00001001010000000000': 1, '00001000010000000000': 2, '00000000000000000100': 10, '00000001000000010000': 2, '00100000000001000000': 11, '00000001000001000000': 9, '00101000001000000000': 1, '00000000111000010010': 1, '00000000011000000000': 4, '00000000100000010000': 2, '00000000000000100000': 22, '00100001000000000000': 32, '00100001010000000000': 1, '00100001001000000000': 2, '00000000001100000000': 5, '00100000000000000000': 545, '00110000100000000000': 1, '00100001000001000000': 1, '00100000110000000000': 4, '00100000000100000000': 11, '00000001000010000000': 2, '00100000100001000000': 1, '00000000000000000000': 7104, '01000001100000000000': 1, '00100000001001000000': 2, '00010000100000000000': 10, '01000000100000000000': 5, '00100000101000000000': 2, '00000000100001000000': 10, '00000010000000000000': 2, '10000000010000000000': 1, '00000000100000000000': 343, '00010000000100000000': 3, '00000000110001000000': 1, '00000000001000000010': 3, '00000000111000000000': 2, '00010000001001000000': 1, '00000001000001100000': 1, '00000000000000001000': 7, '00000001110000000000': 2, '00100000000000000100': 1, '00000000101000000000': 15, '00010000010000000000': 10, '00100000000000000010': 6, '00001000100000000000': 5, '00000000011001000000': 1, '00000000100100000000': 6, '00100000011000000010': 1, '00000000000001000010': 4, '00010001000000000000': 11, '00110000000001000000': 2, '00100000100000000000': 20, '00000000010001000000': 7}\n",
      "7104\n"
     ]
    }
   ],
   "source": [
    "counts = result.get_counts()\n",
    "print(counts)\n",
    "print(counts['0'*20])"
   ]
  },
  {
   "cell_type": "markdown",
   "metadata": {},
   "source": [
    "### Quantum Swap Circuit"
   ]
  },
  {
   "cell_type": "code",
   "execution_count": 2,
   "metadata": {},
   "outputs": [
    {
     "data": {
      "image/png": "[encoded data removed]",
      "text/plain": [
       "<Figure size 621.739x284.278 with 1 Axes>"
      ]
     },
     "execution_count": 2,
     "metadata": {},
     "output_type": "execute_result"
    }
   ],
   "source": [
    "# 2 qubit system\n",
    "qc = qiskit.QuantumCircuit(2, 2)\n",
    "\n",
    "# Initialize second qubit to |1>\n",
    "qc.initialize([0, 1], 1)\n",
    "\n",
    "# CNOT gate (control: qubit 0, target: qubit 1)\n",
    "qc.cx(0, 1)\n",
    "\n",
    "# CNOT gate (control: qubit 1, target: qubit 0)\n",
    "qc.cx(1, 0)\n",
    "\n",
    "# CNTO gate (control: qubit 0, target: qubit 1)\n",
    "qc.cx(0, 1)\n",
    "\n",
    "# Measure qubits\n",
    "qc.measure([0, 1], [0, 1])\n",
    "\n",
    "qc.draw(output=\"mpl\")"
   ]
  },
  {
   "cell_type": "code",
   "execution_count": 3,
   "metadata": {},
   "outputs": [
    {
     "name": "stderr",
     "output_type": "stream",
     "text": [
      "/tmp/ipykernel_2574/579345589.py:4: DeprecationWarning: backend.run() and related sessions methods are deprecated  as of qiskit-ibm-runtime 0.23 and will be removed no sooner than 6 months after the release date. More details can be found in the primitives migration guide https://docs.quantum.ibm.com/migration-guides/qiskit-runtime.\n",
      "  job = backend.run(qc, shots=10**4)\n"
     ]
    }
   ],
   "source": [
    "# Execute the circuit\n",
    "qc = qiskit.transpile(qc, backend)\n",
    "\n",
    "job = backend.run(qc, shots=10**4)\n",
    "result = job.result()"
   ]
  },
  {
   "cell_type": "code",
   "execution_count": 4,
   "metadata": {},
   "outputs": [
    {
     "name": "stdout",
     "output_type": "stream",
     "text": [
      "{'01': 9722, '10': 50, '00': 141, '11': 87}\n"
     ]
    }
   ],
   "source": [
    "counts = result.get_counts()\n",
    "print(counts)"
   ]
  },
  {
   "cell_type": "markdown",
   "metadata": {},
   "source": [
    "As expected, in most cases, the qubits switched values, with q_0 ending as 1 and q_1 ending as 0.\n",
    "Now, we will try with a noise-free simulation."
   ]
  },
  {
   "cell_type": "code",
   "execution_count": 5,
   "metadata": {},
   "outputs": [
    {
     "name": "stdout",
     "output_type": "stream",
     "text": [
      "Measurement output: {'01': 1000}\n"
     ]
    }
   ],
   "source": [
    "# noise-free simulation results\n",
    "from qiskit.quantum_info import SparsePauliOp\n",
    "from qiskit_aer.primitives import EstimatorV2 as Estimator\n",
    "from qiskit_aer import AerSimulator\n",
    "from qiskit.transpiler.preset_passmanagers import generate_preset_pass_manager\n",
    "\n",
    "simulator = AerSimulator()\n",
    "pass_manager = generate_preset_pass_manager(3, simulator)\n",
    "transpiled_circuit = pass_manager.run(qc)\n",
    "\n",
    "simulation_job = simulator.run(transpiled_circuit, shots=1000)\n",
    "\n",
    "simulation_result = simulation_job.result()\n",
    "simulation_counts = simulation_result.get_counts(transpiled_circuit)\n",
    "\n",
    "# Print and plot the results\n",
    "print(\"Measurement output:\", simulation_counts)"
   ]
  },
  {
   "cell_type": "code",
   "execution_count": null,
   "metadata": {},
   "outputs": [],
   "source": []
  }
 ],
 "metadata": {
  "kernelspec": {
   "display_name": ".cqc-venv",
   "language": "python",
   "name": "python3"
  },
  "language_info": {
   "codemirror_mode": {
    "name": "ipython",
    "version": 3
   },
   "file_extension": ".py",
   "mimetype": "text/x-python",
   "name": "python",
   "nbconvert_exporter": "python",
   "pygments_lexer": "ipython3",
   "version": "3.12.7"
  }
 },
 "nbformat": 4,
 "nbformat_minor": 2
}
